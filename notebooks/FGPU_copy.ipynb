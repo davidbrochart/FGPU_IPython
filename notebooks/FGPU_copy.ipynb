{
 "cells": [
  {
   "cell_type": "markdown",
   "metadata": {},
   "source": [
    "# Copy Kernel\n",
    "This kernel simply operates like a DMA. It copies a region of a given size within the global memory."
   ]
  },
  {
   "cell_type": "markdown",
   "metadata": {},
   "source": [
    "## Get FGPU IPython Package"
   ]
  },
  {
   "cell_type": "code",
   "execution_count": 1,
   "metadata": {
    "collapsed": false
   },
   "outputs": [
    {
     "name": "stdout",
     "output_type": "stream",
     "text": [
      "Collecting git+https://github.com/malkadi/FGPU_IPython\n",
      "  Cloning https://github.com/malkadi/FGPU_IPython to /tmp/pip-8afn9bvh-build\n",
      "Installing collected packages: FGPU\n",
      "  Found existing installation: FGPU 0.1\n",
      "    Uninstalling FGPU-0.1:\n",
      "      Successfully uninstalled FGPU-0.1\n",
      "  Running setup.py install for FGPU ... \u001b[?25l-\b \b\\\b \b|\b \b/\b \b-\b \b\\\b \b|\b \b/\b \b-\b \b\\\b \b|\b \bdone\n",
      "\u001b[?25hSuccessfully installed FGPU-0.1\n"
     ]
    }
   ],
   "source": [
    "!sudo -H pip install --upgrade 'git+https://github.com/malkadi/FGPU_IPython'"
   ]
  },
  {
   "cell_type": "markdown",
   "metadata": {},
   "source": [
    "## Kernel Code\n",
    "The OpenCL code of your kernel can be edited here. It will be atomatically saved to the file named in the first line."
   ]
  },
  {
   "cell_type": "code",
   "execution_count": 1,
   "metadata": {
    "collapsed": false
   },
   "outputs": [
    {
     "name": "stdout",
     "output_type": "stream",
     "text": [
      "Overwriting copy.cl\n"
     ]
    }
   ],
   "source": [
    "%%writefile copy.cl\n",
    "\n",
    "#include \"FGPUlib.c\"\n",
    "\n",
    "__kernel void copy_word(__global int *in, __global int *out) {\n",
    "    int index = get_global_id(0);\n",
    "    out[index] = in[index];\n",
    "}"
   ]
  },
  {
   "cell_type": "markdown",
   "metadata": {},
   "source": [
    "## Create Objects"
   ]
  },
  {
   "cell_type": "code",
   "execution_count": 2,
   "metadata": {
    "collapsed": false,
    "scrolled": false
   },
   "outputs": [
    {
     "data": {
      "text/plain": [
       "{'Buffer Count': 0, 'CMA Memory Available': 125534208, 'CMA Memory Usage': 0}"
      ]
     },
     "execution_count": 2,
     "metadata": {},
     "output_type": "execute_result"
    }
   ],
   "source": [
    "from FGPU import FGPU\n",
    "from FGPU import xlnk\n",
    "\n",
    "fgpu= FGPU()\n",
    "mem=xlnk.xlnk() #This object is needed to manage memory operations\n",
    "mem.cma_stats() # prints some statistics on memory usage"
   ]
  },
  {
   "cell_type": "markdown",
   "metadata": {},
   "source": [
    "## Program Hardware"
   ]
  },
  {
   "cell_type": "code",
   "execution_count": 3,
   "metadata": {
    "collapsed": true
   },
   "outputs": [],
   "source": [
    "fgpu.set_bitFile(\"V2_8CUs_SubInteger_2K_LMEM_240MHz.bit\")\n",
    "fgpu.download_bitstream()"
   ]
  },
  {
   "cell_type": "markdown",
   "metadata": {},
   "source": [
    "## Compile Kernel"
   ]
  },
  {
   "cell_type": "code",
   "execution_count": 4,
   "metadata": {
    "collapsed": false,
    "scrolled": false
   },
   "outputs": [
    {
     "name": "stdout",
     "output_type": "stream",
     "text": [
      "Compiling /home/muhammed/FGPU_IPython/notebooks/copy.cl\n",
      "Compiling succeeded!\n",
      "\n",
      "\n",
      "\n",
      "/usr/local/lib/python3.4/dist-packages/FGPU/code.bin:\tfile format ELF32-fgpu\n",
      "\n",
      "Disassembly of section .text:\n",
      "copy_word:\n",
      "       0:\t22 00 00 a8 \tlp\tr2, 1\n",
      "       4:\t03 00 00 a8 \tlp\tr3, 0\n",
      "       8:\t04 00 00 a0 \tlid\tr4, 0\n",
      "       c:\t05 00 00 a1 \twgoff\tr5, 0\n",
      "      10:\ta1 10 00 10 \tadd\tr1, r5, r4\n",
      "      14:\t23 0c 00 74 \tlw\tr3, r3[r1]\n",
      "      18:\t23 08 00 7c \tsw\tr3, r2[r1]\n",
      "      1c:\t00 00 00 92 \tret\n",
      "\n"
     ]
    }
   ],
   "source": [
    "fgpu.set_kernel_file(\"copy.cl\")\n",
    "fgpu.compile_kernel(True)"
   ]
  },
  {
   "cell_type": "markdown",
   "metadata": {},
   "source": [
    "## Allocate Memory"
   ]
  },
  {
   "cell_type": "code",
   "execution_count": 5,
   "metadata": {
    "collapsed": false
   },
   "outputs": [
    {
     "data": {
      "text/plain": [
       "{'Buffer Count': 2,\n",
       " 'CMA Memory Available': 123445248,\n",
       " 'CMA Memory Usage': 2097152}"
      ]
     },
     "execution_count": 5,
     "metadata": {},
     "output_type": "execute_result"
    }
   ],
   "source": [
    "length = 256*1024 # length of input and output array\n",
    "src = mem.cma_alloc(length, data_type = \"unsigned\") #copy source\n",
    "dst = mem.cma_alloc(length, data_type = \"unsigned\") #copy destination\n",
    "mem.cma_stats()"
   ]
  },
  {
   "cell_type": "markdown",
   "metadata": {},
   "source": [
    "## Initialize Memory"
   ]
  },
  {
   "cell_type": "code",
   "execution_count": 6,
   "metadata": {
    "collapsed": false
   },
   "outputs": [],
   "source": [
    "# initialize the region to be copied with some content\n",
    "for i in range(0, length):\n",
    "    src[i] = i\n",
    "    dst[i] = 0"
   ]
  },
  {
   "cell_type": "markdown",
   "metadata": {},
   "source": [
    "## Configure Kernel"
   ]
  },
  {
   "cell_type": "code",
   "execution_count": 7,
   "metadata": {
    "collapsed": false
   },
   "outputs": [],
   "source": [
    "# bind allocated memory to kenel parameters\n",
    "fgpu.set_paramerter(0, src, mem)\n",
    "fgpu.set_paramerter(1, dst, mem)\n",
    "# setup index space\n",
    "fgpu.set_num_dimensions(1)\n",
    "fgpu.set_size(length)\n",
    "fgpu.set_work_group_size(64)\n",
    "fgpu.set_offset(0)"
   ]
  },
  {
   "cell_type": "markdown",
   "metadata": {},
   "source": [
    "## Execute on FGPU"
   ]
  },
  {
   "cell_type": "code",
   "execution_count": 8,
   "metadata": {
    "collapsed": false
   },
   "outputs": [
    {
     "name": "stdout",
     "output_type": "stream",
     "text": [
      "Execution time = 1386 us\n"
     ]
    }
   ],
   "source": [
    "#download kernel binary code and settings to hardware\n",
    "fgpu.download_kernel()\n",
    "\n",
    "#execute and wait until finish\n",
    "execTime = fgpu.execute_kernel()\n",
    "print (\"Execution time =\", int(execTime*1000000), \"us\")"
   ]
  },
  {
   "cell_type": "markdown",
   "metadata": {},
   "source": [
    "## Execute with memcopy\n",
    "Here the same task will be executed in python"
   ]
  },
  {
   "cell_type": "code",
   "execution_count": 9,
   "metadata": {
    "collapsed": false,
    "scrolled": true
   },
   "outputs": [
    {
     "name": "stdout",
     "output_type": "stream",
     "text": [
      "Execution time = 28720 us\n"
     ]
    }
   ],
   "source": [
    "import time\n",
    "# allocate destination\n",
    "dst2 = mem.cma_alloc(length, data_type = \"unsigned\")\n",
    "\n",
    "#execute and measure time\n",
    "start = time.time()\n",
    "mem.cma_memcopy(dst2, src, length*4)\n",
    "end = time.time()\n",
    "print (\"Execution time =\", int((end-start)*1000000), \"us\")"
   ]
  },
  {
   "cell_type": "markdown",
   "metadata": {},
   "source": [
    "## Check Results\n",
    "The results of python and FGPU execution will be compared and any mismatch will be reported"
   ]
  },
  {
   "cell_type": "code",
   "execution_count": 10,
   "metadata": {
    "collapsed": false
   },
   "outputs": [
    {
     "name": "stdout",
     "output_type": "stream",
     "text": [
      "no Errors found!\n"
     ]
    }
   ],
   "source": [
    "src_buf = mem.cma_cast(src, \"unsigned int\")\n",
    "dst_buf = mem.cma_cast(dst, \"unsigned int \")\n",
    "nErrors = 0\n",
    "for i in range(0,length):\n",
    "    if src_buf[i] != dst_buf[i]:\n",
    "        nErrors += 1\n",
    "        #print (src_buf[i], dst_buf[i])\n",
    "if nErrors == 0:\n",
    "    print (\"no Errors found!\")\n",
    "else:\n",
    "    print (nErrors, \"Errors found!\")"
   ]
  },
  {
   "cell_type": "code",
   "execution_count": null,
   "metadata": {
    "collapsed": true
   },
   "outputs": [],
   "source": []
  }
 ],
 "metadata": {
  "kernelspec": {
   "display_name": "Python 3",
   "language": "python",
   "name": "python3"
  },
  "language_info": {
   "codemirror_mode": {
    "name": "ipython",
    "version": 3
   },
   "file_extension": ".py",
   "mimetype": "text/x-python",
   "name": "python",
   "nbconvert_exporter": "python",
   "pygments_lexer": "ipython3",
   "version": "3.4.3+"
  }
 },
 "nbformat": 4,
 "nbformat_minor": 1
}
