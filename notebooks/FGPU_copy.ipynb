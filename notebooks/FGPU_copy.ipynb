{
 "cells": [
  {
   "cell_type": "markdown",
   "metadata": {},
   "source": [
    "## Get FGPU iPython Package"
   ]
  },
  {
   "cell_type": "code",
   "execution_count": null,
   "metadata": {
    "collapsed": true
   },
   "outputs": [],
   "source": [
    "!sudo -H pip install --upgrade 'git+https://github.com/malkadi/FGPU_Python'"
   ]
  },
  {
   "cell_type": "markdown",
   "metadata": {},
   "source": [
    "## Kernel Code"
   ]
  },
  {
   "cell_type": "code",
   "execution_count": 5,
   "metadata": {
    "collapsed": false
   },
   "outputs": [
    {
     "name": "stdout",
     "output_type": "stream",
     "text": [
      "Overwriting copy.cl\n"
     ]
    }
   ],
   "source": [
    "%%writefile copy.cl\n",
    "\n",
    "#include \"FGPUlib.c\"\n",
    "\n",
    "__kernel void copy_word(__global int *in, __global int *out) {\n",
    "    int index = get_global_id(0);\n",
    "    out[index] = in[index];\n",
    "}"
   ]
  },
  {
   "cell_type": "markdown",
   "metadata": {},
   "source": [
    "## Create Objects"
   ]
  },
  {
   "cell_type": "code",
   "execution_count": 1,
   "metadata": {
    "collapsed": false,
    "scrolled": false
   },
   "outputs": [
    {
     "data": {
      "text/plain": [
       "{'Buffer Count': 0, 'CMA Memory Available': 123211776, 'CMA Memory Usage': 0}"
      ]
     },
     "execution_count": 1,
     "metadata": {},
     "output_type": "execute_result"
    }
   ],
   "source": [
    "from FGPU import FGPU\n",
    "from pynq.drivers import xlnk\n",
    "\n",
    "fgpu= FGPU()\n",
    "mem=xlnk.xlnk()\n",
    "mem.cma_stats()"
   ]
  },
  {
   "cell_type": "markdown",
   "metadata": {},
   "source": [
    "## Program Hardware"
   ]
  },
  {
   "cell_type": "code",
   "execution_count": 14,
   "metadata": {
    "collapsed": true
   },
   "outputs": [],
   "source": [
    "fgpu.set_bitFile(\"V2_8CUs_noAtomic_SubInteger_235MHz.bit\")\n",
    "fgpu.download_bitstream()"
   ]
  },
  {
   "cell_type": "markdown",
   "metadata": {},
   "source": [
    "## Compile Kernel"
   ]
  },
  {
   "cell_type": "code",
   "execution_count": 2,
   "metadata": {
    "collapsed": false,
    "scrolled": false
   },
   "outputs": [
    {
     "name": "stdout",
     "output_type": "stream",
     "text": [
      "Compiling /home/muhammed/jupyter_notebooks/FGPU/copy.cl\n",
      "Compiling succeeded!\n",
      "\n",
      "\n",
      "\n",
      "code.bin:\tfile format ELF32-fgpu\n",
      "\n",
      "Disassembly of section .text:\n",
      "copy_word:\n",
      "       0:\t22 00 00 a8 \tlp\tr2, 1\n",
      "       4:\t03 00 00 a8 \tlp\tr3, 0\n",
      "       8:\t04 00 00 a0 \tlid\tr4, 0\n",
      "       c:\t05 00 00 a1 \twgoff\tr5, 0\n",
      "      10:\ta1 10 00 10 \tadd\tr1, r5, r4\n",
      "      14:\t23 0c 00 74 \tlw\tr3, r3[r1]\n",
      "      18:\t23 08 00 7c \tsw\tr3, r2[r1]\n",
      "      1c:\t00 00 00 92 \tret\n",
      "\n"
     ]
    }
   ],
   "source": [
    "fgpu.set_kernel_file(\"copy.cl\")\n",
    "fgpu.compile_kernel()"
   ]
  },
  {
   "cell_type": "markdown",
   "metadata": {},
   "source": [
    "## Allocate Memory"
   ]
  },
  {
   "cell_type": "code",
   "execution_count": 3,
   "metadata": {
    "collapsed": false
   },
   "outputs": [
    {
     "data": {
      "text/plain": [
       "{'Buffer Count': 2,\n",
       " 'CMA Memory Available': 121356288,\n",
       " 'CMA Memory Usage': 2097152}"
      ]
     },
     "execution_count": 3,
     "metadata": {},
     "output_type": "execute_result"
    }
   ],
   "source": [
    "length = 256*1024 # length of input and output array\n",
    "src = mem.cma_alloc(length, data_type = \"unsigned\")\n",
    "dst = mem.cma_alloc(length, data_type = \"unsigned\")\n",
    "mem.cma_stats()"
   ]
  },
  {
   "cell_type": "markdown",
   "metadata": {},
   "source": [
    "## Initialize Memory"
   ]
  },
  {
   "cell_type": "code",
   "execution_count": 4,
   "metadata": {
    "collapsed": false
   },
   "outputs": [],
   "source": [
    "for i in range(0, length):\n",
    "    src[i] = i\n",
    "    dst[i] = 0"
   ]
  },
  {
   "cell_type": "markdown",
   "metadata": {},
   "source": [
    "## Configure Kernel"
   ]
  },
  {
   "cell_type": "code",
   "execution_count": 13,
   "metadata": {
    "collapsed": false
   },
   "outputs": [],
   "source": [
    "# bind allocated memory to kenel parameters\n",
    "fgpu.set_paramerter(0, src, mem)\n",
    "fgpu.set_paramerter(1, dst, mem)\n",
    "# setup index space\n",
    "fgpu.set_num_dimensions(1)\n",
    "fgpu.set_size(length)\n",
    "fgpu.set_work_group_size(64)\n",
    "fgpu.set_offset(0)"
   ]
  },
  {
   "cell_type": "markdown",
   "metadata": {},
   "source": [
    "## Execute Kernel"
   ]
  },
  {
   "cell_type": "code",
   "execution_count": 16,
   "metadata": {
    "collapsed": false
   },
   "outputs": [
    {
     "name": "stdout",
     "output_type": "stream",
     "text": [
      "Execution time = 1405 us\n"
     ]
    }
   ],
   "source": [
    "fgpu.download_kernel()\n",
    "execTime = fgpu.execute_kernel()\n",
    "print (\"Execution time =\", int(execTime*1000000), \"us\")"
   ]
  },
  {
   "cell_type": "markdown",
   "metadata": {},
   "source": [
    "## Check Results"
   ]
  },
  {
   "cell_type": "code",
   "execution_count": 20,
   "metadata": {
    "collapsed": false
   },
   "outputs": [
    {
     "name": "stdout",
     "output_type": "stream",
     "text": [
      "no Errors found!\n"
     ]
    }
   ],
   "source": [
    "src_buf = mem.cma_cast(src, \"unsigned int\")\n",
    "dst_buf = mem.cma_cast(dst, \"unsigned int \")\n",
    "nErrors = 0\n",
    "for i in range(0,length):\n",
    "    if src_buf[i] != dst_buf[i]:\n",
    "        nErrors += 1\n",
    "        #print (src_buf[i], dst_buf[i])\n",
    "if nErrors == 0:\n",
    "    print (\"no Errors found!\")\n",
    "else:\n",
    "    print (nErrors, \"Errors found!\")"
   ]
  }
 ],
 "metadata": {
  "kernelspec": {
   "display_name": "Python 3",
   "language": "python",
   "name": "python3"
  },
  "language_info": {
   "codemirror_mode": {
    "name": "ipython",
    "version": 3
   },
   "file_extension": ".py",
   "mimetype": "text/x-python",
   "name": "python",
   "nbconvert_exporter": "python",
   "pygments_lexer": "ipython3",
   "version": "3.4.3+"
  }
 },
 "nbformat": 4,
 "nbformat_minor": 1
}
